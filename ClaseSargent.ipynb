{
 "cells": [
  {
   "cell_type": "markdown",
   "metadata": {
    "cell_style": "center",
    "slideshow": {
     "slide_type": "slide"
    }
   },
   "source": [
    "# Modelos Económicos en Python"
   ]
  },
  {
   "cell_type": "markdown",
   "metadata": {
    "slideshow": {
     "slide_type": "-"
    }
   },
   "source": [
    "<center><img src = img\\title.jpg width=\"40%\" height=\"40%\" /></center>"
   ]
  },
  {
   "cell_type": "markdown",
   "metadata": {
    "cell_style": "center",
    "slideshow": {
     "slide_type": "slide"
    }
   },
   "source": [
    "### Resumen"
   ]
  },
  {
   "cell_type": "markdown",
   "metadata": {
    "cell_style": "split",
    "slideshow": {
     "slide_type": "fragment"
    }
   },
   "source": [
    "**Que <u>no</u> vamos a ver hoy**\n",
    "\n",
    "- Obtener el resultado de una regresión lineal\n",
    "- Manejo de datos en Python\n",
    "- Cómo programar Machine Learning.\n",
    "- Conseguir datos mediante Web Scrapping.\n",
    "- Hackear los servidores de Google."
   ]
  },
  {
   "cell_type": "markdown",
   "metadata": {
    "cell_style": "split",
    "slideshow": {
     "slide_type": "fragment"
    }
   },
   "source": [
    "**Que <u>sí</u> vamos a ver hoy:**\n",
    "- Introducción a Python: cajas, cosas, acciones\n",
    "- Operadores Lógicos\n",
    "- Funciones\n",
    "- Clases\n",
    "- El modelo de Solow en Python"
   ]
  },
  {
   "cell_type": "markdown",
   "metadata": {
    "slideshow": {
     "slide_type": "subslide"
    }
   },
   "source": [
    "### Herramientas generales\n",
    "- Entornos de trabajo: Anaconda, Jupyter y Binder\n",
    "- QuantEcon\n",
    "- Paquetes o librerías: \n",
    "\t- QuantEcon\n",
    "    - Matplotlib (para visualizaciones)"
   ]
  },
  {
   "cell_type": "markdown",
   "metadata": {
    "slideshow": {
     "slide_type": "subslide"
    }
   },
   "source": [
    "### Recursos:\n",
    "\n",
    "- [QuantEcon](https://lectures.quantecon.org/py/)"
   ]
  },
  {
   "cell_type": "markdown",
   "metadata": {
    "slideshow": {
     "slide_type": "slide"
    }
   },
   "source": [
    "# Intro a Python - Anaconda - Jupyter"
   ]
  },
  {
   "cell_type": "markdown",
   "metadata": {
    "slideshow": {
     "slide_type": "fragment"
    }
   },
   "source": [
    "## Anaconda\n",
    "\n",
    "Anaconda es una distribución libre y gratuita de Python y R utilizada para la ciencia de datos. Incluye la instalación de ambos lenguajes de programación con múltiples paquetes y librerías y algunos programas especializados como Jupyter Notebook, Spyder y RStudio. Cuenta con una interfaz user-friendy (Anaconda Navigator, imagen debajo) y una consola."
   ]
  },
  {
   "cell_type": "markdown",
   "metadata": {
    "slideshow": {
     "slide_type": "fragment"
    }
   },
   "source": [
    "## Jupyter Notebook\n",
    "\n",
    "El notebook de jupyter integra código, sus resultados y texto en un visualizador. Para entrar es necesario escribir jupyter notebook en la consola de Anaconda o abrirlo desde el Anaconda Navigator."
   ]
  },
  {
   "cell_type": "markdown",
   "metadata": {
    "slideshow": {
     "slide_type": "subslide"
    }
   },
   "source": [
    "## Binder\n",
    "\n",
    "Binder es una plataforma donde se puede acceder a Jupyter Notebooks desde internet. Para acceder al notebook de esta presentación haga click [aquí](https://mybinder.org/v2/gh/ndharari/DataAnalisisPython/master)\n",
    "\n",
    "En el transcurso de la clase se va a trabajar con una pequeña introducción a Python con material para que puedan comenzar solos. Para una guía detallada de como instalar y utilizar Anaconda o Jupyter se recomienda que siga el instructivo de [QuantEcon](https://lectures.quantecon.org/py/)."
   ]
  },
  {
   "cell_type": "markdown",
   "metadata": {
    "slideshow": {
     "slide_type": "slide"
    }
   },
   "source": [
    "# Introducción a Python"
   ]
  },
  {
   "cell_type": "markdown",
   "metadata": {
    "cell_style": "split",
    "slideshow": {
     "slide_type": "fragment"
    }
   },
   "source": [
    "<center><img src = img/pythonic.png width=\"80%\" height=\"80%\" /></center>"
   ]
  },
  {
   "cell_type": "markdown",
   "metadata": {
    "cell_style": "split",
    "slideshow": {
     "slide_type": "fragment"
    }
   },
   "source": [
    "La **filosofía** de Python es obtener código elegante y simple:\n",
    "\n",
    "**Elegante**: Un código en python tendria que ser fácil de escribir y recordar.\n",
    "\n",
    "**Simple**: La facilidad de lectura importa"
   ]
  },
  {
   "cell_type": "code",
   "execution_count": 1,
   "metadata": {
    "cell_style": "split"
   },
   "outputs": [
    {
     "data": {
      "text/plain": [
       "[0, 1, 2, 3, 4, 5, 6, 7, 8, 9]"
      ]
     },
     "execution_count": 1,
     "metadata": {},
     "output_type": "execute_result"
    }
   ],
   "source": [
    "x = [i for i in range(10)]\n",
    "x"
   ]
  },
  {
   "cell_type": "markdown",
   "metadata": {
    "cell_style": "split",
    "slideshow": {
     "slide_type": "fragment"
    }
   },
   "source": [
    "> \"Devolvé i por cada i en el rango de 0 a 10\"\n"
   ]
  },
  {
   "cell_type": "markdown",
   "metadata": {
    "slideshow": {
     "slide_type": "subslide"
    }
   },
   "source": [
    "# Cosas, cajas, acciones\n",
    "\n",
    "Python como lenguaje de programación es *multiparadigma*. \n",
    "\n",
    "Breve, los paradigmas son distintas maneras de abordar el *problema* que el programa busca resolver. Que sea multiparadigma implica que se puede elegir uno entre varios de los que soporta. Sin embargo, el más prominente es el de **programación orientada a objetos**. ¿Qué significa esto? Que en Python existen **cosas**, **cajas** y **variables**."
   ]
  },
  {
   "cell_type": "markdown",
   "metadata": {
    "cell_style": "center",
    "slideshow": {
     "slide_type": "subslide"
    }
   },
   "source": [
    "**Cosas**: *Palabras, letras, números, bases de datos.* \n",
    "\n",
    ">Los **objetos** en python vienen relacionados con ciertas **acciones** específicas a ellos mismos. A estas las llamamos **métodos.** \n",
    ">\n",
    ">(Si creo el objeto *gato*, podría tener la **acción** de *arañar*)\n",
    "\n",
    "**Cajas**: *Variables*.\n",
    "\n",
    "**Acciones**: *Funciones, conectores lógicos, operaciones matemáticas*, etc\n",
    "\n",
    "⚠ No es necesario declarar una variable de antemano, solo basta con:"
   ]
  },
  {
   "cell_type": "code",
   "execution_count": 2,
   "metadata": {
    "cell_style": "split"
   },
   "outputs": [
    {
     "data": {
      "text/plain": [
       "1"
      ]
     },
     "execution_count": 2,
     "metadata": {},
     "output_type": "execute_result"
    }
   ],
   "source": [
    "X = 1 \n",
    "X"
   ]
  },
  {
   "cell_type": "markdown",
   "metadata": {
    "cell_style": "split",
    "slideshow": {
     "slide_type": "fragment"
    }
   },
   "source": [
    "> ⚠ El símbolo `=` asigna variables. \n",
    ">\n",
    ">Es distinto de `==` que es un operador relacional."
   ]
  },
  {
   "cell_type": "markdown",
   "metadata": {
    "slideshow": {
     "slide_type": "subslide"
    }
   },
   "source": [
    "Antes de empezar:\n",
    "\n",
    "Escriban en el notebook la siguiente linea y oprmiman \"control + enter\""
   ]
  },
  {
   "cell_type": "code",
   "execution_count": 3,
   "metadata": {
    "scrolled": true
   },
   "outputs": [
    {
     "name": "stdout",
     "output_type": "stream",
     "text": [
      "Hola Mundo\n"
     ]
    }
   ],
   "source": [
    "print(\"Hola Mundo\")"
   ]
  },
  {
   "cell_type": "markdown",
   "metadata": {
    "slideshow": {
     "slide_type": "subslide"
    }
   },
   "source": [
    "# Paquetes\n",
    "\n",
    "En este contexto un paquete es una parte de código escrto por *la comunidad* específico para cumplir una función determinada. Para poder utilizarlo, se debe **instalar** e **importar**. Por suerte, al utilizar Anaconda ya tenemos instalados varios paquetes escenciales. Otros -de los que vamos a usar en la clase, Altair y Plotnine- deben ser instalados. Para una guía de como instalar e inicializar anaconda, se recomienda buscar en [QuantEcon](https://lectures.quantecon.org/py/). Una vez instalados, es necesario **importarlos**"
   ]
  },
  {
   "cell_type": "markdown",
   "metadata": {
    "slideshow": {
     "slide_type": "subslide"
    }
   },
   "source": [
    "## Importar paquetes\n",
    "\n",
    "¿Por que es necesario *importar* un paquete? \n",
    "\n",
    "Porque si **todos los paquetes** fueran cargados **todas  las veces** que se corra un script significaría un gasto inútil de computación. Por eso, se importan sólamente los paquetes **absolutamente necesarios.** "
   ]
  },
  {
   "cell_type": "markdown",
   "metadata": {
    "cell_style": "split",
    "slideshow": {
     "slide_type": "fragment"
    }
   },
   "source": [
    "Para hacerlo, se utiliza -entre otras- la siguiente sintaxis:"
   ]
  },
  {
   "cell_type": "code",
   "execution_count": 4,
   "metadata": {
    "cell_style": "split"
   },
   "outputs": [],
   "source": [
    "import math, math.sqrt(2)"
   ]
  },
  {
   "cell_type": "markdown",
   "metadata": {
    "cell_style": "center",
    "slideshow": {
     "slide_type": "subslide"
    }
   },
   "source": [
    "Ahora bien, hay algunos paquetes con nombres muy largos y con funciones largas dentro de ellos.\n",
    "\n",
    "Es posible (y va a pasar) que queramos usar un **alias** más reducido para llamar al paquete dentro de nuestro código. Para esto, se utiliza:"
   ]
  },
  {
   "cell_type": "code",
   "execution_count": 6,
   "metadata": {
    "cell_style": "split",
    "slideshow": {
     "slide_type": "fragment"
    }
   },
   "outputs": [
    {
     "data": {
      "text/plain": [
       "1.4142135623730951"
      ]
     },
     "execution_count": 6,
     "metadata": {},
     "output_type": "execute_result"
    }
   ],
   "source": [
    "import math as m\n",
    "m.sqrt(2)"
   ]
  },
  {
   "cell_type": "markdown",
   "metadata": {
    "cell_style": "split",
    "slideshow": {
     "slide_type": "fragment"
    }
   },
   "source": [
    "También es posible que sepamos que vamos a utilizar mucho una serie de funciones que vienen de un paquete que no queremos llamar cada vez que lo utilicemos. Para eso, se utiliza la siguiente expresión:"
   ]
  },
  {
   "cell_type": "markdown",
   "metadata": {
    "slideshow": {
     "slide_type": "fragment"
    }
   },
   "source": [
    ">\n",
    "> ⚠ Si se quiere importar todo el paquete se utiliza la expresión `from math import *`\n",
    ">"
   ]
  },
  {
   "cell_type": "markdown",
   "metadata": {
    "slideshow": {
     "slide_type": "subslide"
    }
   },
   "source": [
    "# Condiciones: if / else\n",
    "\n",
    "Las condiciones son la base de la programación en cualquier lenguaje. \n",
    "Estas quieren decir que *si* se cumple determinada condición pasa algo. *Y en el caso de que no se cumpla*, ocurre otra cosa.\n",
    "\n",
    "<center><img src=\"img/ifElse_flowchart.png\" style=\"width: 700px\"></center>"
   ]
  },
  {
   "cell_type": "markdown",
   "metadata": {
    "slideshow": {
     "slide_type": "subslide"
    }
   },
   "source": [
    "Cada lenguaje tiene su manera de demarcar los distintos componentes del condicional. En Python, toda división se hace utilizando **indentaciones anidadas**: las marcas en rojo, que se escriben con presiones de la tecla Tab ↹ o cuatro espacios normales.\n",
    "<center><img src=\"img/ifElse_indent.png\" style=\"width: 600px\"></center>"
   ]
  },
  {
   "cell_type": "markdown",
   "metadata": {
    "cell_style": "center",
    "slideshow": {
     "slide_type": "subslide"
    }
   },
   "source": [
    "Imaginemos un robot hincha de boca poco amigable a otros robots de distinta escuadra que reconoce si estos son contrarios o amigos dependiendo de su afiliación futbolística. ¿Cómo podríamos programar a este robot?"
   ]
  },
  {
   "cell_type": "code",
   "execution_count": null,
   "metadata": {
    "cell_style": "center",
    "slideshow": {
     "slide_type": "fragment"
    }
   },
   "outputs": [],
   "source": [
    "# RobotBoca\n",
    "\n",
    "equipo = \"River\"\n",
    "if equipo != \"Boca\":\n",
    "    print(\"Contrario\")\n",
    "else:\n",
    "    print(\"Amigo\")"
   ]
  },
  {
   "cell_type": "markdown",
   "metadata": {
    "slideshow": {
     "slide_type": "slide"
    }
   },
   "source": [
    "### Acciones: funciones\n",
    "##### Concepto de función:\n",
    "Una función en programación es una sección del programa que realiza una tarea determinada. En la mayoría de los casos cuentan con *inputs* y *outputs* pero no necesariamente. \n",
    "Las funciones en Python pueden tomar la forma **funcion(input1, input2, input3)** o objeto **.método()**\n",
    "\n",
    "⚠ Recordar, los métodos son funciones específicas a ciertos objetos. "
   ]
  },
  {
   "cell_type": "markdown",
   "metadata": {
    "slideshow": {
     "slide_type": "subslide"
    }
   },
   "source": [
    "#### Algunas funciones heredadas\n",
    "Python cuenta con algunas funciones pre establecidas:\n",
    "\n",
    "<center><img src=\"img/fun_table.png\" style=\"width: 800px\"></center>\n",
    "\n",
    "Los iterables vistos hasta ahora son lista y tuple. Se llaman así porque se puede iterar entre sus partes."
   ]
  },
  {
   "cell_type": "markdown",
   "metadata": {
    "slideshow": {
     "slide_type": "subslide"
    }
   },
   "source": [
    "## Definiendo Funciones:"
   ]
  },
  {
   "cell_type": "markdown",
   "metadata": {
    "cell_style": "split",
    "slideshow": {
     "slide_type": "fragment"
    }
   },
   "source": [
    "Definir una función no es algo complejo; sólo es necesario tres ingredientes:\n",
    "\n",
    "- Nombre de la funcion\n",
    "- Variables input\n",
    "- Acción a realizar"
   ]
  },
  {
   "cell_type": "markdown",
   "metadata": {
    "cell_style": "split",
    "slideshow": {
     "slide_type": "fragment"
    }
   },
   "source": [
    "<center><img src=\"img/f_def.png\" style=\"width: 500px\"></center>\n"
   ]
  },
  {
   "cell_type": "markdown",
   "metadata": {
    "cell_style": "center",
    "slideshow": {
     "slide_type": "fragment"
    }
   },
   "source": [
    "Sin embargo, hay que tener cuidado con el *alcance* de nuestras variables."
   ]
  },
  {
   "cell_type": "markdown",
   "metadata": {
    "slideshow": {
     "slide_type": "subslide"
    }
   },
   "source": [
    "### Alcance de variables"
   ]
  },
  {
   "cell_type": "markdown",
   "metadata": {
    "slideshow": {
     "slide_type": "fragment"
    }
   },
   "source": [
    "Es importante entender que no todas las variables son accesibles desde cualquier parte del programa, o incluso, al mismo momento. LLamamos al espacio donde la variable se puede acceder su **alcance** y su duración su **lifetime**. Es importante diferenciar entre variables **locales** y **globales**"
   ]
  },
  {
   "cell_type": "markdown",
   "metadata": {
    "slideshow": {
     "slide_type": "fragment"
    }
   },
   "source": [
    "Se llaman **variables globales** las que son definidas en el cuerpo principal del programa. Estas serán accesibles todo el tiempo y desde cualquier lugar del archivo. "
   ]
  },
  {
   "cell_type": "markdown",
   "metadata": {
    "slideshow": {
     "slide_type": "fragment"
    }
   },
   "source": [
    "Se llaman **variables locales** a aquellas definidas dentro del cuerpo de una función. Es accesible desde que se crea hasta el final de la función y existe hasta que la función termine de ejecutarse. Los parametros o \"inputs\" de las funciones se comportan como variables locales."
   ]
  },
  {
   "cell_type": "markdown",
   "metadata": {
    "slideshow": {
     "slide_type": "subslide"
    }
   },
   "source": [
    "## Ejemplo:\n",
    "\n",
    "¿Cuál de las siguientes variables son **locales** y cuales **globales**"
   ]
  },
  {
   "cell_type": "code",
   "execution_count": null,
   "metadata": {},
   "outputs": [],
   "source": [
    "x=3\n",
    "def f(x):\n",
    "    x = x + 1"
   ]
  },
  {
   "cell_type": "markdown",
   "metadata": {
    "slideshow": {
     "slide_type": "slide"
    }
   },
   "source": [
    "# Propuesta de ejercicios: \n"
   ]
  },
  {
   "cell_type": "markdown",
   "metadata": {
    "cell_style": "split",
    "slideshow": {
     "slide_type": "fragment"
    }
   },
   "source": [
    "- Defina una función que dado un número decida si es par o impar"
   ]
  },
  {
   "cell_type": "code",
   "execution_count": null,
   "metadata": {
    "cell_style": "split",
    "slideshow": {
     "slide_type": "fragment"
    }
   },
   "outputs": [],
   "source": [
    "def parImpar (num):\n",
    "    if num%2==0:\n",
    "        return \"par\"\n",
    "    else: \n",
    "        return \"impar\""
   ]
  },
  {
   "cell_type": "markdown",
   "metadata": {
    "cell_style": "split",
    "slideshow": {
     "slide_type": "fragment"
    }
   },
   "source": [
    "- Defina una función que dada una edad decida si puede votar, manejar o ambas"
   ]
  },
  {
   "cell_type": "code",
   "execution_count": null,
   "metadata": {
    "cell_style": "split",
    "slideshow": {
     "slide_type": "fragment"
    }
   },
   "outputs": [],
   "source": [
    "def votarManejar (edad):\n",
    "    if edad < 16:\n",
    "        return \"no puede ni votar ni manejar\"\n",
    "    else:\n",
    "        if edad >= 18:\n",
    "            return \"Puede votar y manejar\"\n",
    "        else:\n",
    "            return \"Solo puede votar\""
   ]
  },
  {
   "cell_type": "markdown",
   "metadata": {
    "cell_style": "split",
    "slideshow": {
     "slide_type": "fragment"
    }
   },
   "source": [
    "- ¿Cual es el resultado del siguiente código?"
   ]
  },
  {
   "cell_type": "code",
   "execution_count": null,
   "metadata": {
    "cell_style": "split",
    "slideshow": {
     "slide_type": "fragment"
    }
   },
   "outputs": [],
   "source": [
    "invitados = [\"Marco\", \"Nico\", \"Javier\"]\n",
    "nombre = [\"Pablo\"]\n",
    "\n",
    "def seguridad(invitados, nombre):\n",
    "    if nombre in invitados:\n",
    "        return \"puede pasar\"\n",
    "    else:\n",
    "        return \"no puede pasar\""
   ]
  },
  {
   "cell_type": "markdown",
   "metadata": {
    "slideshow": {
     "slide_type": "slide"
    }
   },
   "source": [
    "# OOP II: Building Classes\n",
    "\n",
    "De QuantEcon,  Thomas J. Sargent and John Stachurski"
   ]
  },
  {
   "cell_type": "markdown",
   "metadata": {
    "slideshow": {
     "slide_type": "fragment"
    }
   },
   "source": [
    "## Conceptos claves\n",
    "\n",
    "En el paradigma orientado a objetos, funciones y datos están agrupados en “objectos”."
   ]
  },
  {
   "cell_type": "markdown",
   "metadata": {
    "cell_style": "split",
    "slideshow": {
     "slide_type": "fragment"
    }
   },
   "source": [
    "Un ejemplo es una **lista**. No solamente almacena datos, sino que tambien sabe como ordenarse a si misma:"
   ]
  },
  {
   "cell_type": "code",
   "execution_count": null,
   "metadata": {
    "cell_style": "split"
   },
   "outputs": [],
   "source": [
    "x = [1, 5, 4]\n",
    "x.sort()\n",
    "x"
   ]
  },
  {
   "cell_type": "markdown",
   "metadata": {
    "slideshow": {
     "slide_type": "fragment"
    }
   },
   "source": [
    "En este caso `.sort()` es una función que es parte del objeto lista. LLamaremos a este tipo de funciones como **métodos**."
   ]
  },
  {
   "cell_type": "markdown",
   "metadata": {
    "slideshow": {
     "slide_type": "subslide"
    }
   },
   "source": [
    "### Creando clases\n",
    "\n",
    "Para hacer nuestros tipos especiales de objetos, necesitamos definir una **clase**\n",
    "\n",
    "Llamamos `Clase` a el \"molde\" para un objeto particular. De esta forma, cada objeto en nuestro programa sera una **instancia** de una clase."
   ]
  },
  {
   "cell_type": "markdown",
   "metadata": {
    "cell_style": "split",
    "slideshow": {
     "slide_type": "fragment"
    }
   },
   "source": [
    "Para construir la clase necesitamos:\n",
    "\n",
    "- El tipo de datos que va a almacenar.\n",
    "\n",
    "- Las variables y parámetros propias de la clase.\n",
    "\n",
    "- Que métodos vamos a usar sobre esos datos."
   ]
  },
  {
   "cell_type": "markdown",
   "metadata": {
    "cell_style": "split",
    "slideshow": {
     "slide_type": "fragment"
    }
   },
   "source": [
    "Cierta convención aconseja llamar a nuestros atributos `.__name` para diferenciarlos fácilmente de los métodos\n",
    "\n",
    "- `object_name.__data`\n",
    "- `object_name.method_name()`"
   ]
  },
  {
   "cell_type": "markdown",
   "metadata": {
    "slideshow": {
     "slide_type": "slide"
    }
   },
   "source": [
    "## Por que sirve OOP?"
   ]
  },
  {
   "cell_type": "markdown",
   "metadata": {},
   "source": [
    "OOP sirve porque nos permite realizar abstracciones y aprovechar estructuras -y de paso, escribir menos!-.\n",
    "\n",
    "Por ejemplo:"
   ]
  },
  {
   "cell_type": "markdown",
   "metadata": {
    "cell_style": "split",
    "slideshow": {
     "slide_type": "fragment"
    }
   },
   "source": [
    "- Una cadena de Markov consiste de un conjunto de estados y una colección de probabilidades de transición entre ellos"
   ]
  },
  {
   "cell_type": "markdown",
   "metadata": {
    "cell_style": "split",
    "slideshow": {
     "slide_type": "fragment"
    }
   },
   "source": [
    "- Una teoría de equilibrio general consiste de un espacio de bienes, preferencias, tecnologías y una definición de equilibrio."
   ]
  },
  {
   "cell_type": "markdown",
   "metadata": {
    "cell_style": "split",
    "slideshow": {
     "slide_type": "fragment"
    }
   },
   "source": [
    "- Un juego consiste en una lista de jugadores, determinadas acciones posibles con sus pagos relacionados y una concepción "
   ]
  },
  {
   "cell_type": "markdown",
   "metadata": {
    "slideshow": {
     "slide_type": "subslide"
    }
   },
   "source": [
    "## A Consumer Class"
   ]
  },
  {
   "cell_type": "markdown",
   "metadata": {},
   "source": [
    "Comenzaremos construyendo una classe `Consumer` que contenga:\n",
    "\n",
    "- Un atributo `wealth` attribute that stores the consumer’s wealth (data)\n",
    "\n",
    "- Un método `earn` donde `earn(y)` incrementa la riqueza del consumidor por $y$\n",
    "\n",
    "- Un método `spend` donde `spend(x)` incrementa la riqueza del consumidor por $x$ o devuelve un error si no hay fondos \n",
    "\n"
   ]
  },
  {
   "cell_type": "markdown",
   "metadata": {
    "slideshow": {
     "slide_type": "subslide"
    }
   },
   "source": [
    "## A Consumer Class"
   ]
  },
  {
   "cell_type": "code",
   "execution_count": null,
   "metadata": {
    "cell_style": "split"
   },
   "outputs": [],
   "source": [
    "class Consumer():\n",
    "\n",
    "    def __init__(self, w):\n",
    "        \"Initialize consumer with w dollars of wealth\"\n",
    "        self.__wealth = w\n",
    "\n",
    "    def earn(self, y):\n",
    "        \"The consumer earns y dollars\"\n",
    "        self.__wealth += y\n",
    "\n",
    "    def spend(self, x):\n",
    "        \"The consumer spends x dollars if feasible\"\n",
    "        new_wealth = self.__wealth - x\n",
    "        if new_wealth < 0:\n",
    "            print(\"Insufficent funds\")\n",
    "        else:\n",
    "            self.__wealth = new_wealth"
   ]
  },
  {
   "cell_type": "markdown",
   "metadata": {
    "cell_style": "split"
   },
   "source": [
    "<u> Notas: </u> \n",
    "\n",
    "- `class` indica que estamos construyendo una clase\n",
    "\n",
    "- ` __init__` es un **método constructor:** cada vez que creemos una nueva instancia de nuestra clase, `__init__` genera los parámetros marcados: `self.__wealth`. Al crear al consumidor, tendremos que especificar su riqueza.\n",
    "\n",
    "- `self` es un argumento complejo que refiere a la instancia específica. Todo método o argumento debe iniciarse con `self`"
   ]
  },
  {
   "cell_type": "code",
   "execution_count": null,
   "metadata": {},
   "outputs": [],
   "source": [
    "# For playing:"
   ]
  },
  {
   "cell_type": "markdown",
   "metadata": {
    "slideshow": {
     "slide_type": "slide"
    }
   },
   "source": [
    "## The Solow Growth Model\n",
    "Vamos a escribir una clase simple para implementar la convergencia de capital en el modelo de Solow. Para ello un pequeño repaso:"
   ]
  },
  {
   "cell_type": "markdown",
   "metadata": {
    "slideshow": {
     "slide_type": "fragment"
    }
   },
   "source": [
    "**Características básicas:**\n",
    "\n",
    "-\tAnaliza la interacción entre el crecimiento del stock de capital, el crecimiento poblacional y los avances tecnológicos.\n",
    "-\tLos planes de ahorro e inversión se cumplen en forma simultanea\n",
    "-\tLos mercados se vacían siempre"
   ]
  },
  {
   "cell_type": "markdown",
   "metadata": {
    "slideshow": {
     "slide_type": "subslide"
    }
   },
   "source": [
    "## The Solow Growth Model"
   ]
  },
  {
   "cell_type": "markdown",
   "metadata": {
    "cell_style": "split",
    "slideshow": {
     "slide_type": "fragment"
    }
   },
   "source": [
    "**Oferta de Bienes:**\n",
    "\n",
    "La producción sólo depende de la cantidad del capital per cápita:\n",
    "\n",
    "$\\frac{Y}{L}=f\\left(\\frac{K}{L}\\right) \\implies y=f(k)$\n",
    "\n",
    "Como se tienen rendimientos marginales decrecientes: $f'_k>0 ; f''_k<0$"
   ]
  },
  {
   "cell_type": "markdown",
   "metadata": {
    "cell_style": "split",
    "slideshow": {
     "slide_type": "fragment"
    }
   },
   "source": [
    "**Demanda de Bienes**\n",
    "$y_t = c_t + i_t $\n",
    "\n",
    "Como la inversión debe ser igual al ahorro:\n",
    "\n",
    "$ i = \\left(1-P_{mgC}\\right)y= sy = sf(k)$"
   ]
  },
  {
   "cell_type": "markdown",
   "metadata": {
    "cell_style": "split",
    "slideshow": {
     "slide_type": "fragment"
    }
   },
   "source": [
    "**Ley de movimiento del capital:**\n",
    "\n",
    "Se asume que el capital se acumula siguiendo la siguiente condición:\n",
    "\n",
    "$k_{t+1}= i_t + \\lambda k_{t}$"
   ]
  },
  {
   "cell_type": "markdown",
   "metadata": {
    "slideshow": {
     "slide_type": "subslide"
    }
   },
   "source": [
    "### Dinámica del modelo:"
   ]
  },
  {
   "cell_type": "markdown",
   "metadata": {
    "cell_style": "split",
    "slideshow": {
     "slide_type": "fragment"
    }
   },
   "source": [
    "Reemplazando en la ley de movimiento se obtiene:\n",
    "\n",
    "$k_{t+1}=sf\\left(k\\right)-\\delta k_t$\n",
    "\n",
    "Considerando una tasa constante de crecimiento poblacional $n$ la ecuación de movimeinto final del sistema se encuentra en:\n",
    "\n",
    "$k_{t+1}=\\frac{szk^α_t+(1−δ)k_t}{1+n}$"
   ]
  },
  {
   "cell_type": "markdown",
   "metadata": {
    "cell_style": "split",
    "slideshow": {
     "slide_type": "fragment"
    }
   },
   "source": [
    "Donde:\n",
    "- s es la tasa de ahorro exógena\n",
    "- z es un parámetro de productividad\n",
    "- α es el porcentaje de - participación del capital en el ingreso\n",
    "- n es la tasa de crecimiento -poblacional\n",
    "- δ es la tasa de depreciación.\n",
    "\n",
    "El estado estacionario del modelo se encuentra cuando $k_{t+1}=k_t=k.$"
   ]
  },
  {
   "cell_type": "markdown",
   "metadata": {
    "cell_style": "center",
    "slideshow": {
     "slide_type": "subslide"
    }
   },
   "source": [
    "## En Python"
   ]
  },
  {
   "cell_type": "markdown",
   "metadata": {
    "cell_style": "center",
    "slideshow": {
     "slide_type": "fragment"
    }
   },
   "source": [
    "Escribimos una clase para implementar el modelo.\n",
    "\n",
    "En `__init__` introducimos los parámetros específicos del modelo.\n",
    "\n",
    "El atributo `self.__k`. almacena el valor de $k$ para cada periodo.\n",
    "\n",
    "En el método `.h()` calculamos la variación de capital de un período a otro. Es la parte de la derecha de la ecuación de movimiento final.\n"
   ]
  },
  {
   "cell_type": "code",
   "execution_count": null,
   "metadata": {
    "slideshow": {
     "slide_type": "subslide"
    }
   },
   "outputs": [],
   "source": [
    "import numpy as np\n",
    "import matplotlib.pyplot as plt\n",
    "%matplotlib inline\n",
    "\n",
    "\n",
    "class Solow:\n",
    "    r\"\"\"\n",
    "    Implements the Solow growth model with the update rule\n",
    "\n",
    "        k_{t+1} = [(s z k^α_t) + (1 - δ)k_t] /(1 + n)\n",
    "\n",
    "    \"\"\"\n",
    "    def __init__(self, n=0.05,  # population growth rate\n",
    "                       s=0.25,  # savings rate\n",
    "                       δ=0.1,   # depreciation rate\n",
    "                       α=0.3,   # share of labor\n",
    "                       z=2.0,   # productivity\n",
    "                       k=1.0):  # current capital stock\n",
    "\n",
    "        self.n, self.s, self.δ, self.α, self.z = n, s, δ, α, z\n",
    "        self.k = k\n",
    "\n",
    "    def h(self):\n",
    "        \"Evaluate the h function\"\n",
    "        # Unpack parameters (get rid of self to simplify notation)\n",
    "        n, s, δ, α, z = self.n, self.s, self.δ, self.α, self.z\n",
    "        # Apply the update rule\n",
    "        return (s * z * self.k**α + (1 - δ) * self.k) / (1 + n)\n",
    "\n",
    "    def update(self):\n",
    "        \"Update the current state (i.e., the capital stock).\"\n",
    "        self.k =  self.h()\n",
    "\n",
    "    def steady_state(self):\n",
    "        \"Compute the steady state value of capital.\"\n",
    "        # Unpack parameters (get rid of self to simplify notation)\n",
    "        n, s, δ, α, z = self.n, self.s, self.δ, self.α, self.z\n",
    "        # Compute and return steady state\n",
    "        return ((s * z) / (n + δ))**(1 / (1 - α))\n",
    "\n",
    "    def generate_sequence(self, t):\n",
    "        \"Generate and return a time series of length t\"\n",
    "        path = []\n",
    "        for i in range(t):\n",
    "            path.append(self.k)\n",
    "            self.update()\n",
    "        return path"
   ]
  },
  {
   "cell_type": "markdown",
   "metadata": {
    "slideshow": {
     "slide_type": "subslide"
    }
   },
   "source": [
    "Y ahora usamos el programa para mostrar la convergencia cuando dos niveles de capital inicial difieren"
   ]
  },
  {
   "cell_type": "code",
   "execution_count": null,
   "metadata": {
    "cell_style": "center",
    "slideshow": {
     "slide_type": "fragment"
    }
   },
   "outputs": [],
   "source": [
    "s1 = Solow()\n",
    "s2 = Solow(k=8.0)\n",
    "\n",
    "T = 60\n",
    "fig, ax = plt.subplots(figsize=(9, 6))\n",
    "\n",
    "# Plot the common steady state value of capital\n",
    "ax.plot([s1.steady_state()]*T, 'k-', label='steady state')\n",
    "\n",
    "# Plot time series for each economy\n",
    "for s in s1, s2:\n",
    "    lb = f'capital series from initial state {s.k}'\n",
    "    ax.plot(s.generate_sequence(T), 'o-', lw=2, alpha=0.6, label=lb)\n",
    "\n",
    "ax.legend()\n",
    "plt.show()"
   ]
  },
  {
   "cell_type": "markdown",
   "metadata": {
    "slideshow": {
     "slide_type": "slide"
    }
   },
   "source": [
    "# Muchas Gracias!"
   ]
  }
 ],
 "metadata": {
  "celltoolbar": "Slideshow",
  "kernelspec": {
   "display_name": "Python 3",
   "language": "python",
   "name": "python3"
  },
  "language_info": {
   "codemirror_mode": {
    "name": "ipython",
    "version": 3
   },
   "file_extension": ".py",
   "mimetype": "text/x-python",
   "name": "python",
   "nbconvert_exporter": "python",
   "pygments_lexer": "ipython3",
   "version": "3.7.4"
  },
  "rise": {
   "autolaunch": true,
   "scroll": true
  }
 },
 "nbformat": 4,
 "nbformat_minor": 2
}
